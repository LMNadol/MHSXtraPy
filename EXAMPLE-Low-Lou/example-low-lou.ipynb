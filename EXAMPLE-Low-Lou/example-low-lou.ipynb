{
 "cells": [
  {
   "cell_type": "code",
   "execution_count": null,
   "metadata": {},
   "outputs": [],
   "source": [
    "%load_ext autoreload\n",
    "%autoreload 2"
   ]
  },
  {
   "cell_type": "code",
   "execution_count": null,
   "metadata": {},
   "outputs": [],
   "source": [
    "from __future__ import annotations\n",
    "\n",
    "import logging\n",
    "\n",
    "import numpy as np\n",
    "\n",
    "from scipy.io import readsav\n",
    "\n",
    "from mhsxtrapy.field2d import Field2dData, check_fluxbalance, FluxBalanceState, alpha_HS04\n",
    "from mhsxtrapy.vis import (\n",
    "    plot_magnetogram_2D,\n",
    "    plot_magnetogram_3D,\n",
    "    plot_dpressure_z,\n",
    "    plot_ddensity_z,\n",
    "    plot_dpressure_xy,\n",
    "    plot_ddensity_xy,\n",
    ")\n",
    "from mhsxtrapy.field3d import calculate_magfield\n",
    "from mhsxtrapy.b3d import WhichSolution"
   ]
  },
  {
   "cell_type": "code",
   "execution_count": null,
   "metadata": {},
   "outputs": [],
   "source": [
    "\"\"\"\n",
    "EXAMPLE FOR MAGNETIC FIELD EXTRAPOLATION FROM ANALYTICAL BOUNDARY CONDITION INSTANTIATED THROUGH .sav FILE AND USING HAGINO AND SAKURAI (2004) FOR DETERMINATION OF ALPHA VALUE\n",
    "\n",
    "LOW AND LOU (1990) EXAMPLE \n",
    "\n",
    "Low & Lou (1990) describe a method to construct theoretical examples of semi-analytical non-linear force-free fields. \n",
    "The model is referred to as semi-analytical, as it is analytical except for the numerical solution of an ordinary differential equation in one coordinate direction.\n",
    "The overall solution depends on parameters usually called n and m. For details we refer to the original paper (see Low and Lou 1990).\n",
    "Because the full solution is known these fields can be used for testing the reliability and accuracy of non-linear force-free extrapolation methods by imposing \n",
    "full vector boundary conditions taken from the Low and Lou (1990) solution. As such, this method has been used recently for testing of non-linear force-free models \n",
    "in e.g. Schrijver et al. (2006) and Jarolim et al. (2023) and for testing of an MHS model in Zhu and Wiegelmann (2018).\n",
    "\n",
    "Although our extrapolation methods only require boundary conditions for B_z, one can use information about the horizontal magnetic field components at z = 0 to constrain \n",
    "the constant alpha using the method of Hagino and Sakurai (2004). For the Low and Lou (1990) field all magnetic field components on the boundary are known and hence one \n",
    "can apply the method. The existence of such solutions is somewhat equivalent to vector magnetograph data being available instead of, exclusively, the line-of-sight magnetic\n",
    "field component.\n",
    "\n",
    "The solutions by Low and Lou (1990), which are simple in structure and axisymmetric, are constructed as follows: a dipole-like point source including field-aligned currents is \n",
    "placed at (0, 0, -l) below the origin of the physical coordinate system (x, y, z). Then, the local coordinate system (X, Y, Z), in which the dipole lies, is orientated at an \n",
    "angle to (x, y, z). The rotation is carried out in the X-Z-plane in relation to the x-z-plane, such that 0 < φ < π/2 is the angle between the z-axis and the Z-axis. Extrapolation\n",
    "is carried out in the z > 0 domain, as the photosphere is taken to be located in the x-y-plane at z = 0.\n",
    "\n",
    "The line-of-sight magnetogram used as the boundary condition to mimic the photospheric magnetic field in this example is a slice extracted from the non-linear force-free model described above. The\n",
    "parameters n = 1,m = 1, l = 0.3 and φ = 0.47 have been used for this purpose (Low and Lou 1990), and lead to the magnetogram consisting of one sink and one extended source. The structure of this boundary\n",
    "condition can be seen in Figure 7.8. The size of the bottom boundary domain corresponds to 3.2 Mm in both x- and y-direction with resolution of 0.04 Mm pixel^-1 in all directions, which is a pixel size\n",
    "comparable, for example, to Sunrise/IMaX observations. The magnetic field strength on the boundary varies from -1792 G to 446 G.\n",
    "\n",
    "The .sav file containing the boundary condition was provided by the ISSI team \"Magnetohydrostatic Modeling of the Solar Atmosphere with New Datasets\" (https://teams.issibern.ch/magnetohydrostaticsolaratmosphere/)\n",
    "and can be found in the folder EXAMPLE-Low-Lou/data.\n",
    "\"\"\""
   ]
  },
  {
   "cell_type": "code",
   "execution_count": null,
   "metadata": {},
   "outputs": [],
   "source": [
    "\"\"\"\n",
    "LOAD DATA FROM FILE\n",
    "\"\"\"\n",
    "\n",
    "path = \"data/Analytic_boundary_data.sav\"\n",
    "\n",
    "data = readsav(path, python_dict=True, verbose=True)"
   ]
  },
  {
   "cell_type": "code",
   "execution_count": null,
   "metadata": {},
   "outputs": [],
   "source": [
    "\"\"\"\n",
    "READ INFORMATION FROM FILE\n",
    "\"\"\"\n",
    "\n",
    "for handler in logging.root.handlers[:]:\n",
    "    logging.root.removeHandler(handler)\n",
    "\n",
    "logging.basicConfig(\n",
    "    level=logging.INFO, format=\"%(asctime)s - %(levelname)s - %(message)s\"\n",
    ")\n",
    "\n",
    "info_array = data.get(\"info_array\")\n",
    "logging.info(f\"Info Array: {info_array}\")\n",
    "\n",
    "\n",
    "info_boundary = data.get(\"info_boundary\")\n",
    "logging.info(f\"Info Boundary: {info_boundary}\")\n",
    "\n",
    "\n",
    "info_pixel = data.get(\"info_pixel\")\n",
    "logging.info(f\"Info Pixel: {info_pixel}\")\n",
    "\n",
    "\n",
    "info_unit = data.get(\"info_unit\")\n",
    "logging.info(f\"Info Unit: {info_unit}\")"
   ]
  },
  {
   "cell_type": "code",
   "execution_count": null,
   "metadata": {},
   "outputs": [],
   "source": [
    "\"\"\"\n",
    "INSTANIATE RELEVANT PARAMETERS\n",
    "\"\"\"\n",
    "\n",
    "data_bz = data[\"b2dz5\"] # Read magnetic field data in Gauss, see \"Info Array\" and \"Info Unit\" above.\n",
    "data_bx = data[\"b2dx5\"]\n",
    "data_by = data[\"b2dy5\"]\n",
    "\n",
    "nx = data_bz.shape[1]\n",
    "ny = data_bz.shape[0]\n",
    "\n",
    "pz = 40.0 * 10**-3  # Convert pixelsize from km into Mm, see \"Info Pixel\" in previous cell.\n",
    "px = 40.0 * 10**-3\n",
    "py = 40.0 * 10**-3\n",
    "\n",
    "xmin, ymin, zmin = 0.0, 0.0, 0.0\n",
    "xmax = nx * px\n",
    "ymax = ny * py\n",
    "zmax = 4000.0 * 10**-3\n",
    "\n",
    "nz = int(np.floor(zmax / pz))\n",
    "\n",
    "nf = min(nx, ny)\n",
    "\n",
    "x_arr = np.linspace(xmin, xmax, nx, dtype=np.float64)\n",
    "y_arr = np.linspace(ymin, ymax, ny, dtype=np.float64)\n",
    "z_arr = np.linspace(zmin, zmax, nz, dtype=np.float64)"
   ]
  },
  {
   "cell_type": "code",
   "execution_count": null,
   "metadata": {},
   "outputs": [],
   "source": [
    "\"\"\"\n",
    "CHECK FLUXBALANCE OF BOUNDARY CONDITION\n",
    "\n",
    "check_fluxbalance returns the summation of the flux through the bottom boundary, normalised by the sum of absolute values. \n",
    "This returns a value between −1 and 1, where either extreme corresponds to the flux being directed entirely inward or entirely outward, respectively. We consider values \n",
    "between −0.01 and 0.01 as flux-balanced in agreement with Wiegelmann & Sakurai (2021). \n",
    "\"\"\"\n",
    "\n",
    "np.fabs(check_fluxbalance(data_bz)) < 0.01"
   ]
  },
  {
   "cell_type": "code",
   "execution_count": null,
   "metadata": {},
   "outputs": [],
   "source": [
    "\"\"\"\n",
    "INSTANTIATE Field2dData OBJECT FROM LOW AND LOU BOUNDARY CONDITION\n",
    "\"\"\"\n",
    "\n",
    "data2d = Field2dData(\n",
    "    nx,\n",
    "    ny,\n",
    "    nz,\n",
    "    nf,\n",
    "    px,\n",
    "    py,\n",
    "    pz,\n",
    "    x_arr,\n",
    "    y_arr,\n",
    "    z_arr,\n",
    "    data_bz,\n",
    "    flux_balance_state=FluxBalanceState.BALANCED,\n",
    ")"
   ]
  },
  {
   "cell_type": "code",
   "execution_count": null,
   "metadata": {},
   "outputs": [],
   "source": [
    "\"\"\"\n",
    "PLOT 2D BOUNDARY CONDITION\n",
    "\"\"\"\n",
    "\n",
    "plot_magnetogram_2D(data2d)"
   ]
  },
  {
   "cell_type": "code",
   "execution_count": null,
   "metadata": {},
   "outputs": [],
   "source": [
    "\"\"\"\n",
    "CALCULATE ALPHA BASED ON HAGINO AND SAKURAI (2004)\n",
    "\n",
    "\"Optimal\" alpha calculated according to Hagino and Sakurai (2004). Alpha is calculated from the vertical electric current in the photosphere (from horizontal photospheric field) \n",
    "and the photospheric vertical magnetic field.\n",
    "\"\"\"\n",
    "\n",
    "alpha_HS04(data_bx, data_by, data_bz)"
   ]
  },
  {
   "cell_type": "code",
   "execution_count": null,
   "metadata": {},
   "outputs": [],
   "source": [
    "\"\"\"\n",
    "EXTRAPOLATE MAGNETIC FIELD\n",
    "\"\"\"\n",
    "\n",
    "data3d = calculate_magfield(\n",
    "    data2d,\n",
    "    alpha=-0.03,\n",
    "    a=0.27,\n",
    "    which_solution=WhichSolution.ASYMP,\n",
    "    b=1.0,\n",
    "    z0=2.0,\n",
    "    deltaz=0.2,\n",
    ") "
   ]
  },
  {
   "cell_type": "code",
   "execution_count": null,
   "metadata": {},
   "outputs": [],
   "source": [
    "\"\"\"\n",
    "PLOT MAGNETOGRAM\n",
    "\"\"\"\n",
    "\n",
    "plot_magnetogram_3D(data3d, view='los', footpoints='active-regions')"
   ]
  },
  {
   "cell_type": "code",
   "execution_count": null,
   "metadata": {},
   "outputs": [],
   "source": [
    "\"\"\"\n",
    "PLOT PRESSURE VARIATION WITH HEIGHT z\n",
    "\"\"\"\n",
    "\n",
    "plot_dpressure_z(data3d)"
   ]
  },
  {
   "cell_type": "code",
   "execution_count": null,
   "metadata": {},
   "outputs": [],
   "source": [
    "\"\"\"\n",
    "PLOT DENSITY VARIATION WITH HEIGHT z\n",
    "\"\"\"\n",
    "\n",
    "plot_ddensity_z(data3d)"
   ]
  },
  {
   "cell_type": "code",
   "execution_count": null,
   "metadata": {},
   "outputs": [],
   "source": [
    "\"\"\"\n",
    "PLOT PRESSURE VARIATION FOR A SPECIFIC HEIGHT z [Mm] FOR ALL x and y\n",
    "\"\"\"\n",
    "\n",
    "plot_dpressure_xy(\n",
    "    data3d, 0\n",
    ")"
   ]
  },
  {
   "cell_type": "code",
   "execution_count": null,
   "metadata": {},
   "outputs": [],
   "source": [
    "\"\"\"\n",
    "PLOT DENSITY VARIATION FOR A SPECIFIC HEIGHT z [Mm] FOR ALL x and y\n",
    "\"\"\"\n",
    "\n",
    "plot_ddensity_xy(\n",
    "    data3d, 0\n",
    ")"
   ]
  },
  {
   "cell_type": "code",
   "execution_count": null,
   "metadata": {},
   "outputs": [],
   "source": []
  }
 ],
 "metadata": {
  "kernelspec": {
   "display_name": "mhsxtrapybeta-PM1cyDU1-py3.12",
   "language": "python",
   "name": "python3"
  },
  "language_info": {
   "codemirror_mode": {
    "name": "ipython",
    "version": 3
   },
   "file_extension": ".py",
   "mimetype": "text/x-python",
   "name": "python",
   "nbconvert_exporter": "python",
   "pygments_lexer": "ipython3",
   "version": "3.12.4"
  }
 },
 "nbformat": 4,
 "nbformat_minor": 2
}
