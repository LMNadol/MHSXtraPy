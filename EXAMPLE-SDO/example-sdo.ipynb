{
 "cells": [
  {
   "cell_type": "code",
   "execution_count": null,
   "metadata": {},
   "outputs": [],
   "source": [
    "%load_ext autoreload\n",
    "%autoreload 2"
   ]
  },
  {
   "cell_type": "code",
   "execution_count": null,
   "metadata": {},
   "outputs": [],
   "source": [
    "from __future__ import annotations\n",
    "\n",
    "import logging\n",
    "\n",
    "import numpy as np\n",
    "\n",
    "from mhsxtrapy.field2d import Field2dData, check_fluxbalance, FluxBalanceState, alpha_HS04\n",
    "from mhsxtrapy.plotting.vis import (\n",
    "    plot_magnetogram_2D,\n",
    "    plot_magnetogram_3D,\n",
    "    plot_dpressure_z,\n",
    "    plot_ddensity_z,\n",
    "    plot_dpressure_xy,\n",
    "    plot_ddensity_xy,\n",
    ")\n",
    "from mhsxtrapy.field3d import calculate_magfield\n",
    "from mhsxtrapy.b3d import WhichSolution\n",
    "\n",
    "from mhsxtrapy.prep import find_corners_SDO"
   ]
  },
  {
   "cell_type": "code",
   "execution_count": null,
   "metadata": {},
   "outputs": [],
   "source": [
    "\"\"\"\n",
    "EXAMPLE FOR MAGNETIC FIELD EXTRAPOLATION FROM SDO DATA\n",
    "\"\"\""
   ]
  },
  {
   "cell_type": "code",
   "execution_count": null,
   "metadata": {},
   "outputs": [],
   "source": [
    "\"\"\"\n",
    "READ SDO FILE\n",
    "\n",
    "SDO HMI magnetogram from 13 June 2012 7:31 UT saved in folder EXAMPLE-SDO/data.\n",
    "Originally downloaded from JSOC using SunPy, for details see https://docs.sunpy.org/en/stable/tutorial/acquiring_data/jsoc.html.\n",
    "\n",
    "Disclaimer: Current problems at JSOC might make downloads using SunPy impossible. Therefore, the data file is provided directly. \n",
    "\"\"\"\n",
    "\n",
    "path = \"data/hmi_m_45s_2012_06_13_07_31_30_tai_magnetogram.fits\""
   ]
  },
  {
   "cell_type": "code",
   "execution_count": null,
   "metadata": {},
   "outputs": [],
   "source": [
    "\"\"\"\n",
    "DETERMINE 2D BOUNDARY CONDITION\n",
    "\n",
    "SDO/HMI observes full disk magnetograms, such that the obtained line-of-sight magnetic field component needs to be cut to an area around the (active)\n",
    "region, that one aims to investigate. This cutout needs to be close to the disk centre and small enough that neglecting the curvature of the solar surface \n",
    "is appropriate and the utilisation of Cartesian coordinates justified.\n",
    "\n",
    "When cutting magnetograms to a smaller size, there is always a trade-off between reducing the size to increase numerical efficiency and keeping enough space \n",
    "around the interesting features to minimise the effects of the boundaries. For a comprehensive comparison of SDO and Solar Orbiter observations see \n",
    "Sinjan et al. (2023) and Vacas et al. (2024).\n",
    "\n",
    "Test different values for ulon (upper longitude), llon (lower longitude), ulat (upper latitude) and llat (lower latitude) to see different cut out regions.\n",
    "\"\"\"\n",
    "\n",
    "find_corners_SDO(path, ulon=-250, llon=-450, ulat=-100, llat=-220)"
   ]
  },
  {
   "cell_type": "code",
   "execution_count": null,
   "metadata": {},
   "outputs": [],
   "source": [
    "\"\"\"\n",
    "INSTANTIATE Field2dData OBJECT FROM SDO/HMI data file\n",
    "\"\"\"\n",
    "\n",
    "data2d = Field2dData.from_fits_SDO(path, ulon=-250, llon=-450, ulat=-100, llat=-220)"
   ]
  },
  {
   "cell_type": "code",
   "execution_count": null,
   "metadata": {},
   "outputs": [],
   "source": [
    "\"\"\"\n",
    "CHECK FLUXBALANCE OF BOUNDARY CONDITION\n",
    "\n",
    "check_fluxbalance returns the summation of the flux through the bottom boundary, normalised by the sum of absolute values. \n",
    "This returns a value between −1 and 1, where either extreme corresponds to the flux being directed entirely inward or entirely outward, respectively. We consider values \n",
    "between −0.01 and 0.01 as flux-balanced in agreement with Wiegelmann & Sakurai (2021). \n",
    "\"\"\"\n",
    "\n",
    "np.fabs(check_fluxbalance(data2d.bz)) < 0.01"
   ]
  },
  {
   "cell_type": "code",
   "execution_count": null,
   "metadata": {},
   "outputs": [],
   "source": [
    "\"\"\"\n",
    "PLOT 2D BOUNDARY CONDITION\n",
    "\"\"\"\n",
    "\n",
    "plot_magnetogram_2D(data2d)"
   ]
  },
  {
   "cell_type": "code",
   "execution_count": null,
   "metadata": {},
   "outputs": [],
   "source": [
    "\"\"\"\n",
    "EXTRAPOLATE MAGNETIC FIELD\n",
    "\"\"\"\n",
    "\n",
    "data3d = calculate_magfield(\n",
    "    data2d,\n",
    "    alpha=0.01,\n",
    "    a=0.2,\n",
    "    which_solution=WhichSolution.ASYMP,\n",
    "    b=1.0,\n",
    "    z0=2.0,\n",
    "    deltaz=0.2,\n",
    ") "
   ]
  },
  {
   "cell_type": "code",
   "execution_count": null,
   "metadata": {},
   "outputs": [],
   "source": [
    "\"\"\"\n",
    "PLOT MAGNETOGRAM\n",
    "\"\"\"\n",
    "\n",
    "plot_magnetogram_3D(data3d, view='angular', footpoints='active-regions')"
   ]
  },
  {
   "cell_type": "code",
   "execution_count": null,
   "metadata": {},
   "outputs": [],
   "source": [
    "\"\"\"\n",
    "PLOT PRESSURE VARIATION WITH HEIGHT z\n",
    "\"\"\"\n",
    "\n",
    "plot_dpressure_z(data3d)"
   ]
  },
  {
   "cell_type": "code",
   "execution_count": null,
   "metadata": {},
   "outputs": [],
   "source": [
    "\"\"\"\n",
    "PLOT DENSITY VARIATION WITH HEIGHT z\n",
    "\"\"\"\n",
    "\n",
    "\n",
    "plot_ddensity_z(data3d)"
   ]
  },
  {
   "cell_type": "code",
   "execution_count": null,
   "metadata": {},
   "outputs": [],
   "source": [
    "\"\"\"\n",
    "PLOT PRESSURE VARIATION FOR A SPECIFIC HEIGHT z [Mm] FOR ALL x and y\n",
    "\"\"\"\n",
    "\n",
    "plot_dpressure_xy(\n",
    "    data3d, 0\n",
    ")"
   ]
  },
  {
   "cell_type": "code",
   "execution_count": null,
   "metadata": {},
   "outputs": [],
   "source": [
    "\"\"\"\n",
    "PLOT DENSITY VARIATION FOR A SPECIFIC HEIGHT z [Mm] FOR ALL x and y\n",
    "\"\"\"\n",
    "\n",
    "plot_ddensity_xy(\n",
    "    data3d, 0\n",
    ")"
   ]
  },
  {
   "cell_type": "code",
   "execution_count": null,
   "metadata": {},
   "outputs": [],
   "source": []
  }
 ],
 "metadata": {
  "kernelspec": {
   "display_name": "mhsxtrapybeta-PM1cyDU1-py3.12",
   "language": "python",
   "name": "python3"
  },
  "language_info": {
   "codemirror_mode": {
    "name": "ipython",
    "version": 3
   },
   "file_extension": ".py",
   "mimetype": "text/x-python",
   "name": "python",
   "nbconvert_exporter": "python",
   "pygments_lexer": "ipython3",
   "version": "3.12.4"
  }
 },
 "nbformat": 4,
 "nbformat_minor": 2
}
