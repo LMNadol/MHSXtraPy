{
 "cells": [
  {
   "cell_type": "code",
   "execution_count": null,
   "metadata": {},
   "outputs": [],
   "source": [
    "%load_ext autoreload\n",
    "%autoreload 2"
   ]
  },
  {
   "cell_type": "code",
   "execution_count": null,
   "metadata": {},
   "outputs": [],
   "source": [
    "from __future__ import annotations\n",
    "\n",
    "import numpy as np\n",
    "\n",
    "from mhsxtrapy.field2d import Field2dData, check_fluxbalance, FluxBalanceState\n",
    "from mhsxtrapy.vis import (\n",
    "    plot_magnetogram_2D,\n",
    "    plot_magnetogram_3D,\n",
    "    plot_dpressure_z,\n",
    "    plot_ddensity_z,\n",
    "    plot_dpressure_xy,\n",
    "    plot_ddensity_xy,\n",
    ")\n",
    "from mhsxtrapy.field3d import calculate_magfield\n",
    "from mhsxtrapy.b3d import WhichSolution\n",
    "from mhsxtrapy.examples import multipole"
   ]
  },
  {
   "cell_type": "code",
   "execution_count": null,
   "metadata": {},
   "outputs": [],
   "source": [
    "\"\"\"\n",
    "EXAMPLE FOR MAGNETIC FIELD EXTRAPOLATION FROM ANALYTICAL BOUNDARY CONDITION INSTANTIATED \"BY HAND\" AND FOR ALL THREE DIFFERENT SOLUTIONS\n",
    "\"\"\""
   ]
  },
  {
   "cell_type": "code",
   "execution_count": null,
   "metadata": {},
   "outputs": [],
   "source": [
    "\"\"\"\n",
    "INSTANTIATE BOUNDARY CONDITION 1\n",
    "\n",
    "We instantiate the boundary condition manually from the analytical expression given in the following cell using the function multipole(x, y).\n",
    "\n",
    "We choose a grid resolution of 200 in x- and y-direction (and resulting number of Fourier modes = 200) as well as resolution in z-direction of 400.\n",
    "We want the boundary condition to extend to 20L (= 20 Mm) in all directions. Therefore, the extrapolation will lead to a 3D data cube.\n",
    "\"\"\"\n",
    "\n",
    "nx, ny, nz, nf = 200, 200, 400, 200\n",
    "xmin, xmax, ymin, ymax, zmin, zmax = 0.0, 20.0, 0.0, 20.0, 0.0, 20.0\n",
    "\n",
    "\"\"\"\n",
    "Calculation of pixel sizes and arrays of x-, y- and z-extension of box. \n",
    "\"\"\"\n",
    "pixelsize_x = (xmax - xmin) / nx\n",
    "pixelsize_y = (ymax - ymin) / ny\n",
    "pixelsize_z = (zmax - zmin) / nz\n",
    "\n",
    "x_arr = np.linspace(xmin, xmax, nx, dtype=np.float64)\n",
    "y_arr = np.linspace(ymin, ymax, ny, dtype=np.float64)\n",
    "z_arr = np.linspace(zmin, zmax, nz, dtype=np.float64)"
   ]
  },
  {
   "cell_type": "code",
   "execution_count": null,
   "metadata": {},
   "outputs": [],
   "source": [
    "\"\"\"\n",
    "INSTANTIATE BOUNDARY CONDITION 2\n",
    "\n",
    "We define the normalising magnetic field strength as 500 Gauss. \n",
    "\"\"\"\n",
    "\n",
    "B_PHOTO = 500\n",
    "\n",
    "data_bz = np.zeros((ny, nx))\n",
    "\n",
    "for ix in range(0, nx):\n",
    "    for iy in range(0, ny):\n",
    "        x = x_arr[ix] / 10.0\n",
    "        y = y_arr[iy] / 10.0\n",
    "        data_bz[iy, ix] = multipole(x, y)"
   ]
  },
  {
   "cell_type": "code",
   "execution_count": null,
   "metadata": {},
   "outputs": [],
   "source": [
    "\"\"\"\n",
    "CHECK FLUXBALANCE OF BOUNDARY CONDITION\n",
    "\n",
    "check_fluxbalance returns the summation of the flux through the bottom boundary, normalised by the sum of absolute values. \n",
    "This returns a value between −1 and 1, where either extreme corresponds to the flux being directed entirely inward or entirely outward, respectively. We consider values \n",
    "between −0.01 and 0.01 as flux-balanced in agreement with Wiegelmann & Sakurai (2021). \n",
    "\"\"\"\n",
    "\n",
    "np.fabs(check_fluxbalance(data_bz)) < 0.01"
   ]
  },
  {
   "cell_type": "code",
   "execution_count": null,
   "metadata": {},
   "outputs": [],
   "source": [
    "\"\"\"\n",
    "INSTANTIATE Field2dData OBJECT FROM ANALYTICAL BOUNDARY CONDITION\n",
    "\"\"\"\n",
    "\n",
    "data2d = Field2dData(\n",
    "    nx,\n",
    "    ny,\n",
    "    nz,\n",
    "    nf,\n",
    "    pixelsize_x,\n",
    "    pixelsize_y,\n",
    "    pixelsize_z,\n",
    "    x_arr,\n",
    "    y_arr,\n",
    "    z_arr,\n",
    "    data_bz,\n",
    "    flux_balance_state=FluxBalanceState.UNBALANCED,\n",
    ")"
   ]
  },
  {
   "cell_type": "code",
   "execution_count": null,
   "metadata": {},
   "outputs": [],
   "source": [
    "\"\"\"\n",
    "PLOT 2D BOUNDARY CONDITION\n",
    "\"\"\"\n",
    "\n",
    "plot_magnetogram_2D(data2d)"
   ]
  },
  {
   "cell_type": "code",
   "execution_count": null,
   "metadata": {},
   "outputs": [],
   "source": [
    "\"\"\"\n",
    "EXTRAPOLATE MAGNETIC FIELD 1\n",
    "\n",
    "Use asymptotic solution presented in Nadol and Neukirch (2025) and choosen parameters alpha, a, b, z0 and delta z. \n",
    "\"\"\"\n",
    "\n",
    "data3d = calculate_magfield(\n",
    "    data2d,\n",
    "    alpha=0.05,\n",
    "    a=0.22,\n",
    "    which_solution=WhichSolution.ASYMP,\n",
    "    b=1.0,\n",
    "    z0=2.0,\n",
    "    deltaz=0.2,\n",
    ")"
   ]
  },
  {
   "cell_type": "code",
   "execution_count": null,
   "metadata": {},
   "outputs": [],
   "source": [
    "\"\"\"\n",
    "EXTRAPOLATE MAGNETIC FIELD 2\n",
    "\n",
    "Use asymptotic solution presented in Neukirch and Wiegelmann (2019) and choosen parameters alpha, a, b, z0 and delta z. \n",
    "\"\"\"\n",
    "\n",
    "data3d_NW = calculate_magfield(\n",
    "    data2d,\n",
    "    alpha=0.05,\n",
    "    a=0.22,\n",
    "    which_solution=WhichSolution.NEUWIE,\n",
    "    b=1.0,\n",
    "    z0=2.0,\n",
    "    deltaz=0.2,\n",
    ")"
   ]
  },
  {
   "cell_type": "code",
   "execution_count": null,
   "metadata": {},
   "outputs": [],
   "source": [
    "\"\"\"\n",
    "EXTRAPOLATE MAGNETIC FIELD 3\n",
    "\n",
    "Use asymptotic solution presented in Low (1990, 1991) and choosen parameters alpha and kappa. \n",
    "\"\"\"\n",
    "\n",
    "data3d_LOW = calculate_magfield(\n",
    "    data2d,\n",
    "    alpha=0.05,\n",
    "    a=0.22,\n",
    "    kappa=1/2.0,\n",
    "    which_solution=WhichSolution.LOW,\n",
    "    b=1.0,\n",
    "    z0=2.0,\n",
    "    deltaz=0.2,\n",
    ")"
   ]
  },
  {
   "cell_type": "code",
   "execution_count": null,
   "metadata": {},
   "outputs": [],
   "source": [
    "\"\"\"\n",
    "PLOT MAGNETOGRAM\n",
    "\"\"\"\n",
    "\n",
    "plot_magnetogram_3D(data3d, view=\"los\", footpoints=\"active-regions\")"
   ]
  },
  {
   "cell_type": "code",
   "execution_count": null,
   "metadata": {},
   "outputs": [],
   "source": [
    "\"\"\"\n",
    "PLOT PRESSURE VARIATION WITH HEIGHT z\n",
    "\"\"\"\n",
    "\n",
    "plot_dpressure_z(data3d)"
   ]
  },
  {
   "cell_type": "code",
   "execution_count": null,
   "metadata": {},
   "outputs": [],
   "source": [
    "\"\"\"\n",
    "PLOT DENSITY VARIATION WITH HEIGHT z\n",
    "\"\"\"\n",
    "\n",
    "plot_ddensity_z(data3d)"
   ]
  },
  {
   "cell_type": "code",
   "execution_count": null,
   "metadata": {},
   "outputs": [],
   "source": [
    "\"\"\"\n",
    "PLOT PRESSURE VARIATION FOR A SPECIFIC HEIGHT z [Mm] FOR ALL x and y\n",
    "\"\"\"\n",
    "\n",
    "plot_dpressure_xy(data3d, z=0) # type: ignore"
   ]
  },
  {
   "cell_type": "code",
   "execution_count": null,
   "metadata": {},
   "outputs": [],
   "source": [
    "\"\"\"\n",
    "PLOT DENSITY VARIATION FOR A SPECIFIC HEIGHT z [Mm] FOR ALL x and y\n",
    "\"\"\"\n",
    "\n",
    "plot_ddensity_xy(data3d, z=0) # type: ignore"
   ]
  },
  {
   "cell_type": "code",
   "execution_count": null,
   "metadata": {},
   "outputs": [],
   "source": []
  }
 ],
 "metadata": {
  "kernelspec": {
   "display_name": "mhsxtrapybeta-PM1cyDU1-py3.12",
   "language": "python",
   "name": "python3"
  },
  "language_info": {
   "codemirror_mode": {
    "name": "ipython",
    "version": 3
   },
   "file_extension": ".py",
   "mimetype": "text/x-python",
   "name": "python",
   "nbconvert_exporter": "python",
   "pygments_lexer": "ipython3",
   "version": "3.12.4"
  }
 },
 "nbformat": 4,
 "nbformat_minor": 2
}
