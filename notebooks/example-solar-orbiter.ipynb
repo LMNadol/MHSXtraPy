{
 "cells": [
  {
   "cell_type": "code",
   "execution_count": null,
   "metadata": {},
   "outputs": [],
   "source": [
    "%load_ext autoreload\n",
    "%autoreload 2"
   ]
  },
  {
   "cell_type": "code",
   "execution_count": null,
   "metadata": {},
   "outputs": [],
   "source": [
    "from __future__ import annotations\n",
    "\n",
    "import logging\n",
    "import os\n",
    "\n",
    "import numpy as np\n",
    "\n",
    "from mhsxtrapy.b3d import WhichSolution\n",
    "from mhsxtrapy.field2d import (\n",
    "    Field2dData,\n",
    "    FluxBalanceState,\n",
    "    alpha_HS04,\n",
    "    check_fluxbalance,\n",
    ")\n",
    "from mhsxtrapy.field3d import Field3dData, calculate_magfield\n",
    "from mhsxtrapy.plotting.vis import (\n",
    "    plot_ddensity_xy,\n",
    "    plot_ddensity_z,\n",
    "    plot_dpressure_xy,\n",
    "    plot_dpressure_z,\n",
    "    plot_magnetogram_2D,\n",
    "    plot_magnetogram_3D,\n",
    ")\n",
    "from mhsxtrapy.prep import find_corners_SolarOrbiter"
   ]
  },
  {
   "cell_type": "markdown",
   "metadata": {},
   "source": [
    "#### Example for magnetic field extrapolation from Solar Orbiter/PHI data and demonstration of saving and loading of a Field3dData object\n",
    "\n",
    "##### Read Solar Orbiter/PHI/HRT file\n",
    "\n",
    "Solar Orbiter PHI/HRT magnetogram from 29 March 2023 saved in folder EXAMPLE-Solar-Orbiter/data.\n",
    "Originally downloaded from Solar Orbiter Archive, for details see https://soar.esac.esa.int/soar/."
   ]
  },
  {
   "cell_type": "code",
   "execution_count": null,
   "metadata": {},
   "outputs": [],
   "source": [
    "path = \"data/solo_L2_phi-hrt-blos_20230329T125009_V01.fits\""
   ]
  },
  {
   "cell_type": "markdown",
   "metadata": {},
   "source": [
    "##### Determine 2D boundary condition \n",
    "\n",
    "Full Solar Orbiter/PHI/HRT magnetogram is displayed together with the cut out one gets when chooseing stx (start x index), lstx (last x index), sty (start y index) and lsty (last y index)."
   ]
  },
  {
   "cell_type": "code",
   "execution_count": null,
   "metadata": {},
   "outputs": [],
   "source": [
    "find_corners_SolarOrbiter(path, stx=200, lstx=700, sty=200, lsty=800)"
   ]
  },
  {
   "cell_type": "markdown",
   "metadata": {},
   "source": [
    "##### Instantiate Field2dData object from Solar Obriter/PHI/HRT data file"
   ]
  },
  {
   "cell_type": "code",
   "execution_count": null,
   "metadata": {},
   "outputs": [],
   "source": [
    "data2d = Field2dData.from_fits_SolarOrbiter(path, stx=200, lstx=700, sty=200, lsty=800)"
   ]
  },
  {
   "cell_type": "markdown",
   "metadata": {},
   "source": [
    "##### Check if flux through boundary condition is balanced\n",
    "\n",
    "check_fluxbalance returns the summation of the flux through the bottom boundary, normalised by the sum of absolute values. \n",
    "This returns a value between −1 and 1, where either extreme corresponds to the flux being directed entirely inward or entirely outward, respectively. We consider values \n",
    "between −0.01 and 0.01 as flux-balanced in agreement with Wiegelmann & Sakurai (2021). "
   ]
  },
  {
   "cell_type": "code",
   "execution_count": null,
   "metadata": {},
   "outputs": [],
   "source": [
    "np.fabs(check_fluxbalance(data2d.bz)) < 0.01"
   ]
  },
  {
   "cell_type": "markdown",
   "metadata": {},
   "source": [
    "##### Plot 2D boundary condition"
   ]
  },
  {
   "cell_type": "code",
   "execution_count": null,
   "metadata": {},
   "outputs": [],
   "source": [
    "plot_magnetogram_2D(data2d)"
   ]
  },
  {
   "cell_type": "markdown",
   "metadata": {},
   "source": [
    "##### Extrapolate magnetic field and save as .pkl in folder /extra_data\n",
    "\n",
    "Can be commented out once calculated. Then only following code block is needed."
   ]
  },
  {
   "cell_type": "code",
   "execution_count": null,
   "metadata": {},
   "outputs": [],
   "source": [
    "data3d = calculate_magfield(\n",
    "    data2d,\n",
    "    alpha=0.01,\n",
    "    a=0.2,\n",
    "    which_solution=WhichSolution.ASYMP,\n",
    "    b=1.0,\n",
    "    z0=2.0,\n",
    "    deltaz=0.2,\n",
    ")\n",
    "\n",
    "if not os.path.exists(\"extra_data\"):\n",
    "        os.makedirs(\"extra_data\")\n",
    "\n",
    "data3d.save(path=\"extra_data/\")"
   ]
  },
  {
   "cell_type": "markdown",
   "metadata": {},
   "source": [
    "##### Load Field3dData object"
   ]
  },
  {
   "cell_type": "code",
   "execution_count": null,
   "metadata": {},
   "outputs": [],
   "source": [
    "data3d = Field3dData.load(path=\"extra_data/\")"
   ]
  },
  {
   "cell_type": "markdown",
   "metadata": {},
   "source": [
    "##### Plot"
   ]
  },
  {
   "cell_type": "code",
   "execution_count": null,
   "metadata": {},
   "outputs": [],
   "source": [
    "plot_magnetogram_3D(data3d, view=\"angular\", footpoints=\"active-regions\")"
   ]
  },
  {
   "cell_type": "code",
   "execution_count": null,
   "metadata": {},
   "outputs": [],
   "source": [
    "plot_dpressure_z(data3d)"
   ]
  },
  {
   "cell_type": "code",
   "execution_count": null,
   "metadata": {},
   "outputs": [],
   "source": [
    "plot_ddensity_z(data3d)"
   ]
  },
  {
   "cell_type": "code",
   "execution_count": null,
   "metadata": {},
   "outputs": [],
   "source": [
    "plot_dpressure_xy(data3d, z=0)"
   ]
  },
  {
   "cell_type": "code",
   "execution_count": null,
   "metadata": {},
   "outputs": [],
   "source": [
    "plot_ddensity_xy(data3d, z=0)"
   ]
  },
  {
   "cell_type": "code",
   "execution_count": null,
   "metadata": {},
   "outputs": [],
   "source": []
  }
 ],
 "metadata": {
  "kernelspec": {
   "display_name": "mhsxtrapy-_witMKZG-py3.12",
   "language": "python",
   "name": "python3"
  },
  "language_info": {
   "codemirror_mode": {
    "name": "ipython",
    "version": 3
   },
   "file_extension": ".py",
   "mimetype": "text/x-python",
   "name": "python",
   "nbconvert_exporter": "python",
   "pygments_lexer": "ipython3",
   "version": "3.12.4"
  }
 },
 "nbformat": 4,
 "nbformat_minor": 2
}
