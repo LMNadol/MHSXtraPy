{
 "cells": [
  {
   "cell_type": "code",
   "execution_count": null,
   "metadata": {},
   "outputs": [],
   "source": [
    "%load_ext autoreload\n",
    "%autoreload 2"
   ]
  },
  {
   "cell_type": "code",
   "execution_count": null,
   "metadata": {},
   "outputs": [],
   "source": [
    "from __future__ import annotations\n",
    "\n",
    "import numpy as np\n",
    "\n",
    "from mhsxtrapy.b3d import WhichSolution\n",
    "from mhsxtrapy.examples import multipole\n",
    "from mhsxtrapy.field2d import Field2dData, FluxBalanceState, check_fluxbalance\n",
    "from mhsxtrapy.field3d import calculate_magfield\n",
    "from mhsxtrapy.plotting.vis import (\n",
    "    plot_ddensity_xy,\n",
    "    plot_ddensity_z,\n",
    "    plot_dpressure_xy,\n",
    "    plot_dpressure_z,\n",
    "    plot_magnetogram_2D,\n",
    "    plot_magnetogram_3D,\n",
    ")"
   ]
  },
  {
   "cell_type": "markdown",
   "metadata": {},
   "source": [
    "#### Example for magnetic field extrapolation from analytical boundary condition instantiated \"by hand\" and for all three different solutions"
   ]
  },
  {
   "cell_type": "markdown",
   "metadata": {},
   "source": [
    "##### Instantiate boundary condition \n",
    "\n",
    "We instantiate the boundary condition manually from the analytical expression given in the following cell using the function multipole(x, y).\n",
    "\n",
    "We choose a grid resolution of 200 in x- and y-direction (and resulting number of Fourier modes = 200) as well as resolution in z-direction of 400. We want the boundary condition to extend to 20L (= 20 Mm) in all directions. Therefore, the extrapolation will lead to a 3D data cube.\n",
    "\n",
    "We define the normalising magnetic field strength as 500 Gauss. "
   ]
  },
  {
   "cell_type": "code",
   "execution_count": null,
   "metadata": {},
   "outputs": [],
   "source": [
    "nx, ny, nz, nf = 200, 200, 400, 200\n",
    "xmin, xmax, ymin, ymax, zmin, zmax = 0.0, 20.0, 0.0, 20.0, 0.0, 20.0\n",
    "\n",
    "\"\"\"\n",
    "Calculation of pixel sizes and arrays of x-, y- and z-extension of box. \n",
    "\"\"\"\n",
    "pixelsize_x = (xmax - xmin) / nx\n",
    "pixelsize_y = (ymax - ymin) / ny\n",
    "pixelsize_z = (zmax - zmin) / nz\n",
    "\n",
    "x_arr = np.linspace(xmin, xmax, nx, dtype=np.float64)\n",
    "y_arr = np.linspace(ymin, ymax, ny, dtype=np.float64)\n",
    "z_arr = np.linspace(zmin, zmax, nz, dtype=np.float64)\n",
    "\n",
    "B_PHOTO = 500\n",
    "\n",
    "data_bz = np.zeros((ny, nx))\n",
    "\n",
    "for ix in range(0, nx):\n",
    "    for iy in range(0, ny):\n",
    "        x = x_arr[ix] / 10.0\n",
    "        y = y_arr[iy] / 10.0\n",
    "        data_bz[iy, ix] = multipole(x, y)"
   ]
  },
  {
   "cell_type": "markdown",
   "metadata": {},
   "source": [
    "##### Check if flux through boundary condition is balanced\n",
    "\n",
    "check_fluxbalance returns the summation of the flux through the bottom boundary, normalised by the sum of absolute values. This returns a value between −1 and 1, where either extreme corresponds to the flux being directed entirely inward or entirely outward, respectively. We consider values between −0.01 and 0.01 as flux-balanced in agreement with Wiegelmann & Sakurai (2021). "
   ]
  },
  {
   "cell_type": "code",
   "execution_count": null,
   "metadata": {},
   "outputs": [],
   "source": [
    "np.fabs(check_fluxbalance(data_bz)) < 0.01"
   ]
  },
  {
   "cell_type": "markdown",
   "metadata": {},
   "source": [
    "##### Instantiate Field2dData object from analytical boundary condition and plot 2D boundary condition"
   ]
  },
  {
   "cell_type": "code",
   "execution_count": null,
   "metadata": {},
   "outputs": [],
   "source": [
    "data2d = Field2dData(\n",
    "    nx,\n",
    "    ny,\n",
    "    nz,\n",
    "    nf,\n",
    "    pixelsize_x,\n",
    "    pixelsize_y,\n",
    "    pixelsize_z,\n",
    "    x_arr,\n",
    "    y_arr,\n",
    "    z_arr,\n",
    "    data_bz,\n",
    "    flux_balance_state=FluxBalanceState.UNBALANCED,\n",
    ")\n",
    "\n",
    "plot_magnetogram_2D(data2d)"
   ]
  },
  {
   "cell_type": "markdown",
   "metadata": {},
   "source": [
    "##### Extrapolate magnetic field \n",
    "\n",
    "Use asymptotic solution presented in Nadol and Neukirch (2025) and choosen parameters alpha, a, b, z0 and delta z. "
   ]
  },
  {
   "cell_type": "code",
   "execution_count": null,
   "metadata": {},
   "outputs": [],
   "source": [
    "data3d = calculate_magfield(\n",
    "    data2d,\n",
    "    alpha=0.05,\n",
    "    a=0.22,\n",
    "    which_solution=WhichSolution.ASYMP,\n",
    "    b=1.0,\n",
    "    z0=2.0,\n",
    "    deltaz=0.2,\n",
    ")"
   ]
  },
  {
   "cell_type": "markdown",
   "metadata": {},
   "source": [
    "Use asymptotic solution presented in Neukirch and Wiegelmann (2019) and choosen parameters alpha, a, b, z0 and delta z. "
   ]
  },
  {
   "cell_type": "code",
   "execution_count": null,
   "metadata": {},
   "outputs": [],
   "source": [
    "data3d_NW = calculate_magfield(\n",
    "    data2d,\n",
    "    alpha=0.05,\n",
    "    a=0.22,\n",
    "    which_solution=WhichSolution.NEUWIE,\n",
    "    b=1.0,\n",
    "    z0=2.0,\n",
    "    deltaz=0.2,\n",
    ")"
   ]
  },
  {
   "cell_type": "markdown",
   "metadata": {},
   "source": [
    "Use asymptotic solution presented in Low (1991, 1992) and choosen parameters alpha and kappa."
   ]
  },
  {
   "cell_type": "code",
   "execution_count": null,
   "metadata": {},
   "outputs": [],
   "source": [
    "data3d_LOW = calculate_magfield(\n",
    "    data2d,\n",
    "    alpha=0.05,\n",
    "    a=0.22,\n",
    "    kappa=1 / 2.0,\n",
    "    which_solution=WhichSolution.LOW,\n",
    "    b=1.0,\n",
    "    z0=2.0,\n",
    "    deltaz=0.2,\n",
    ")"
   ]
  },
  {
   "cell_type": "markdown",
   "metadata": {},
   "source": [
    "##### Plot magnetogram"
   ]
  },
  {
   "cell_type": "code",
   "execution_count": null,
   "metadata": {},
   "outputs": [],
   "source": [
    "plot_magnetogram_3D(data3d, view=\"los\", footpoints=\"active-regions\")"
   ]
  },
  {
   "cell_type": "markdown",
   "metadata": {},
   "source": [
    "##### Plot pressure variation with height z"
   ]
  },
  {
   "cell_type": "code",
   "execution_count": null,
   "metadata": {},
   "outputs": [],
   "source": [
    "plot_dpressure_z(data3d)"
   ]
  },
  {
   "cell_type": "markdown",
   "metadata": {},
   "source": [
    "##### Plot density variation with height z"
   ]
  },
  {
   "cell_type": "code",
   "execution_count": null,
   "metadata": {},
   "outputs": [],
   "source": [
    "plot_ddensity_z(data3d)"
   ]
  },
  {
   "cell_type": "markdown",
   "metadata": {},
   "source": [
    "##### Plot pressure variation for a specific height z for all x and y"
   ]
  },
  {
   "cell_type": "code",
   "execution_count": null,
   "metadata": {},
   "outputs": [],
   "source": [
    "plot_dpressure_xy(data3d, z=0)  # type: ignore"
   ]
  },
  {
   "cell_type": "markdown",
   "metadata": {},
   "source": [
    "##### Plot density variation for a specific height z for all x and y"
   ]
  },
  {
   "cell_type": "code",
   "execution_count": null,
   "metadata": {},
   "outputs": [],
   "source": [
    "plot_ddensity_xy(data3d, z=0)  # type: ignore"
   ]
  },
  {
   "cell_type": "code",
   "execution_count": null,
   "metadata": {},
   "outputs": [],
   "source": []
  },
  {
   "cell_type": "code",
   "execution_count": null,
   "metadata": {},
   "outputs": [],
   "source": []
  }
 ],
 "metadata": {
  "kernelspec": {
   "display_name": "mhsxtrapy-_witMKZG-py3.12",
   "language": "python",
   "name": "python3"
  },
  "language_info": {
   "codemirror_mode": {
    "name": "ipython",
    "version": 3
   },
   "file_extension": ".py",
   "mimetype": "text/x-python",
   "name": "python",
   "nbconvert_exporter": "python",
   "pygments_lexer": "ipython3",
   "version": "3.12.4"
  }
 },
 "nbformat": 4,
 "nbformat_minor": 2
}
