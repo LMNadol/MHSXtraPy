{
 "cells": [
  {
   "cell_type": "code",
   "execution_count": null,
   "id": "fd297cb7",
   "metadata": {},
   "outputs": [],
   "source": [
    "import matplotlib.pyplot as plt\n",
    "from sunpy.map import Map\n",
    "from sunpy.net import Fido, attrs as a\n",
    "import numpy as np\n",
    "from astropy.coordinates import SkyCoord\n",
    "import astropy.units as u\n",
    "import matplotlib.patches as patches\n",
    "import os\n",
    "import drms"
   ]
  },
  {
   "cell_type": "code",
   "execution_count": null,
   "id": "4527475e",
   "metadata": {},
   "outputs": [],
   "source": [
    "%load_ext autoreload\n",
    "%autoreload 2"
   ]
  },
  {
   "cell_type": "code",
   "execution_count": null,
   "id": "1ffbd675",
   "metadata": {},
   "outputs": [],
   "source": [
    "jsoc_email = \"lillinadol@gmail.com\"\n",
    "\n",
    "result = Fido.search(\n",
    "    a.Time(\"2011-02-15 00:00:00\", \"2011-02-15 00:01:00\"),\n",
    "    a.Sample(1 * u.hour),\n",
    "    a.jsoc.Series(\"hmi.sharp_cea_720s\"),\n",
    "    a.jsoc.PrimeKey(\"HARPNUM\", 377),\n",
    "    a.jsoc.Notify(jsoc_email),\n",
    "    a.jsoc.Segment(\"Br\"),\n",
    ")\n",
    "print(result)"
   ]
  },
  {
   "cell_type": "code",
   "execution_count": null,
   "id": "7d90124a",
   "metadata": {},
   "outputs": [],
   "source": [
    "file = Fido.fetch(result)\n",
    "sharp_map = Map(file)"
   ]
  },
  {
   "cell_type": "code",
   "execution_count": null,
   "id": "d74a076f",
   "metadata": {},
   "outputs": [],
   "source": [
    "# Extract the active region number from metadata\n",
    "ar_number = sharp_map.meta.get('HARPNUM')\n",
    "print(f\"Active Region Number (HARPNUM): {ar_number}\")"
   ]
  },
  {
   "cell_type": "code",
   "execution_count": null,
   "id": "f354c20b",
   "metadata": {},
   "outputs": [],
   "source": [
    "sharp_map.meta.get('NOAA_AR')\n"
   ]
  },
  {
   "cell_type": "code",
   "execution_count": null,
   "id": "b2652125",
   "metadata": {},
   "outputs": [],
   "source": [
    "sharp_map.meta.get('NOAA_NUM')\n"
   ]
  },
  {
   "cell_type": "code",
   "execution_count": null,
   "id": "862cd074",
   "metadata": {},
   "outputs": [],
   "source": [
    "sharp_map.meta.get('NOAAARS')"
   ]
  },
  {
   "cell_type": "code",
   "execution_count": null,
   "id": "a5f39f2e",
   "metadata": {},
   "outputs": [],
   "source": [
    "path_aia171 = (\n",
    "    \"/Users/lilli/sunpy/data/aia.lev1.171A_2011_02_15T00_00_00.34Z.image_lev1.fits\"\n",
    ")\n",
    "\n",
    "aia_image = Map(path_aia171).rotate()"
   ]
  },
  {
   "cell_type": "code",
   "execution_count": null,
   "id": "6a557baf",
   "metadata": {},
   "outputs": [],
   "source": [
    "left_corner = sharp_map.bottom_left_coord\n",
    "right_corner = sharp_map.top_right_coord\n",
    "aia_small = aia_image.submap(left_corner, top_right=right_corner)"
   ]
  },
  {
   "cell_type": "code",
   "execution_count": null,
   "id": "15a9daf2",
   "metadata": {},
   "outputs": [],
   "source": [
    "from mhsxtrapy.field2d import Field2dData, FluxBalanceState\n",
    "\n",
    "px_arcsec = (\n",
    "    np.arctan(\n",
    "        (\n",
    "            sharp_map.fits_header[\"CDELT1\"]\n",
    "            * np.pi\n",
    "            / 180\n",
    "            * sharp_map.fits_header[\"RSUN_REF\"]\n",
    "        )\n",
    "        / sharp_map.fits_header[\"DSUN_OBS\"]\n",
    "    )\n",
    "    * 180\n",
    "    / np.pi\n",
    "    * 3600\n",
    ")\n",
    "py_arcsec = (\n",
    "    np.arctan(\n",
    "        (\n",
    "            sharp_map.fits_header[\"CDELT2\"]\n",
    "            * np.pi\n",
    "            / 180\n",
    "            * sharp_map.fits_header[\"RSUN_REF\"]\n",
    "        )\n",
    "        / sharp_map.fits_header[\"DSUN_OBS\"]\n",
    "    )\n",
    "    * 180\n",
    "    / np.pi\n",
    "    * 3600\n",
    ")\n",
    "\n",
    "px_radians = px_arcsec / ((3600 * 360) / (2 * np.pi))\n",
    "py_radians = py_arcsec / ((3600 * 360) / (2 * np.pi))\n",
    "\n",
    "dist_Mm = sharp_map.fits_header[\"DSUN_OBS\"] * 10**-6\n",
    "px = px_radians * dist_Mm\n",
    "py = py_radians * dist_Mm\n",
    "\n",
    "ny, nx = sharp_map.data.shape\n",
    "bz = sharp_map.data\n",
    "\n",
    "\n",
    "xmin = 0.0\n",
    "ymin = 0.0\n",
    "\n",
    "xmax = nx * px\n",
    "ymax = ny * py\n",
    "\n",
    "x = np.arange(nx) * (xmax - xmin) / (nx - 1) - xmin\n",
    "y = np.arange(ny) * (ymax - ymin) / (ny - 1) - ymin\n",
    "\n",
    "zmin = 0.0\n",
    "\n",
    "zmax = 40.0\n",
    "\n",
    "# pz = np.float64(90.0 * 10**-3)\n",
    "pz = max(px, py)\n",
    "nz = int(np.floor(zmax / pz))\n",
    "z = np.arange(nz) * (zmax - zmin) / (nz - 1) - zmin\n",
    "\n",
    "nf = int(min(nx, ny))\n",
    "\n",
    "sharp_data = Field2dData(\n",
    "    nx,\n",
    "    ny,\n",
    "    nz,\n",
    "    nf,\n",
    "    px,\n",
    "    py,\n",
    "    pz,\n",
    "    x,\n",
    "    y,\n",
    "    z,\n",
    "    bz,\n",
    "    flux_balance_state=FluxBalanceState.BALANCED,\n",
    ")"
   ]
  },
  {
   "cell_type": "code",
   "execution_count": null,
   "id": "0177f841",
   "metadata": {},
   "outputs": [],
   "source": [
    "from scipy.interpolate import griddata\n",
    "\n",
    "nx = aia_small.data.shape[1]\n",
    "ny = aia_small.data.shape[0]\n",
    "\n",
    "x = np.arange(nx) * (sharp_data.x[-1] - sharp_data.x[0]) / (nx - 1) - sharp_data.x[0]\n",
    "y = np.arange(ny) * (sharp_data.y[-1] - sharp_data.y[0]) / (ny - 1) - sharp_data.y[0]\n",
    "\n",
    "xv_fine, yv_fine = np.meshgrid(sharp_data.x, sharp_data.y)\n",
    "xv, yv = np.meshgrid(x, y)\n",
    "\n",
    "print(\n",
    "    yv.flatten().shape,\n",
    "    xv.flatten().shape,\n",
    "    yv_fine.flatten().shape,\n",
    "    xv_fine.flatten().shape,\n",
    ")\n",
    "print(aia_small.data.flatten().shape)\n",
    "print(np.column_stack((yv.flatten(), xv.flatten())).shape)\n",
    "\n",
    "\n",
    "AIA_higherres = griddata(\n",
    "    np.column_stack((yv.flatten(), xv.flatten())),\n",
    "    aia_small.data.flatten(),\n",
    "    np.column_stack((yv_fine.flatten(), xv_fine.flatten())),\n",
    "    method=\"cubic\",\n",
    ").reshape(sharp_data.bz.shape)"
   ]
  },
  {
   "cell_type": "code",
   "execution_count": null,
   "id": "67357a9d",
   "metadata": {},
   "outputs": [],
   "source": [
    "from mhsxtrapy.field3d import calculate_magfield, WhichSolution\n",
    "from mhsxtrapy.field2d import maximal_a"
   ]
  },
  {
   "cell_type": "code",
   "execution_count": null,
   "id": "bd342c0c",
   "metadata": {},
   "outputs": [],
   "source": [
    "maximal_a(sharp_data, alpha=0.01, b=1.0)"
   ]
  },
  {
   "cell_type": "code",
   "execution_count": null,
   "id": "1c15a422",
   "metadata": {},
   "outputs": [],
   "source": [
    "sharp_extra = calculate_magfield(\n",
    "    sharp_data,\n",
    "    alpha=0.01,\n",
    "    a=0.4,\n",
    "    which_solution=WhichSolution.ASYMP,\n",
    "    b=1.0,\n",
    "    z0=2.0,\n",
    "    deltaz=0.2,\n",
    ")"
   ]
  },
  {
   "cell_type": "code",
   "execution_count": null,
   "id": "401275ea",
   "metadata": {},
   "outputs": [],
   "source": [
    "sharp_extra.nz"
   ]
  },
  {
   "cell_type": "code",
   "execution_count": null,
   "id": "e4f85385",
   "metadata": {},
   "outputs": [],
   "source": [
    "sharp_extra.y[-1]"
   ]
  },
  {
   "cell_type": "code",
   "execution_count": null,
   "id": "ae317268",
   "metadata": {},
   "outputs": [],
   "source": [
    "sharp_extra.bz.max()"
   ]
  },
  {
   "cell_type": "code",
   "execution_count": null,
   "id": "9abbc3e2",
   "metadata": {},
   "outputs": [],
   "source": [
    "from mhsxtrapy.plotting.vis import (\n",
    "    plot_magnetogram_3D,\n",
    "    plot_ddensity_xy,\n",
    "    plot_ddensity_z,\n",
    "    plot_dpressure_xy,\n",
    "    plot_dpressure_z,\n",
    ")"
   ]
  },
  {
   "cell_type": "code",
   "execution_count": null,
   "id": "1d555a9d",
   "metadata": {},
   "outputs": [],
   "source": [
    "plot_magnetogram_3D(sharp_extra, view=\"side\", footpoints=\"active-regions\")"
   ]
  },
  {
   "cell_type": "code",
   "execution_count": null,
   "id": "0059b871",
   "metadata": {},
   "outputs": [],
   "source": [
    "z_plot = 6"
   ]
  },
  {
   "cell_type": "code",
   "execution_count": null,
   "id": "0ae115c9",
   "metadata": {},
   "outputs": [],
   "source": [
    "plot_dpressure_xy(sharp_extra, z=z_plot)"
   ]
  },
  {
   "cell_type": "code",
   "execution_count": null,
   "id": "e9e1d206",
   "metadata": {},
   "outputs": [],
   "source": [
    "plot_ddensity_xy(sharp_extra, z=z_plot)"
   ]
  },
  {
   "cell_type": "code",
   "execution_count": null,
   "id": "f417de47",
   "metadata": {},
   "outputs": [],
   "source": [
    "plot_dpressure_z(sharp_extra)"
   ]
  },
  {
   "cell_type": "code",
   "execution_count": null,
   "id": "ab93d115",
   "metadata": {},
   "outputs": [],
   "source": [
    "plot_ddensity_z(sharp_extra)"
   ]
  },
  {
   "cell_type": "code",
   "execution_count": null,
   "id": "b48350af",
   "metadata": {},
   "outputs": [],
   "source": []
  },
  {
   "cell_type": "code",
   "execution_count": null,
   "id": "6ccd8636",
   "metadata": {},
   "outputs": [],
   "source": []
  }
 ],
 "metadata": {
  "kernelspec": {
   "display_name": "mhsxtrapy-_witMKZG-py3.12",
   "language": "python",
   "name": "python3"
  },
  "language_info": {
   "codemirror_mode": {
    "name": "ipython",
    "version": 3
   },
   "file_extension": ".py",
   "mimetype": "text/x-python",
   "name": "python",
   "nbconvert_exporter": "python",
   "pygments_lexer": "ipython3",
   "version": "3.12.4"
  }
 },
 "nbformat": 4,
 "nbformat_minor": 5
}
