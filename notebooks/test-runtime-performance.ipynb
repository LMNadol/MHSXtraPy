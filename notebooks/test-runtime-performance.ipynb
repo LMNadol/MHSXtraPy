{
 "cells": [
  {
   "cell_type": "code",
   "execution_count": null,
   "metadata": {},
   "outputs": [],
   "source": [
    "%load_ext autoreload\n",
    "%autoreload 2"
   ]
  },
  {
   "cell_type": "code",
   "execution_count": null,
   "metadata": {},
   "outputs": [],
   "source": [
    "from __future__ import annotations\n",
    "\n",
    "import numpy as np\n",
    "\n",
    "from mhsxtrapy.b3d import WhichSolution, b3d\n",
    "from mhsxtrapy.field2d import Field2dData, FluxBalanceState\n",
    "from mhsxtrapy.phibar import (dphidz, dphidz_low, dphidz_nw, phi, phi_low,\n",
    "                              phi_nw)\n",
    "from mhsxtrapy.plotting.vis import plot_magnetogram_2D"
   ]
  },
  {
   "cell_type": "code",
   "execution_count": null,
   "metadata": {},
   "outputs": [],
   "source": [
    "\"\"\"\n",
    "INSTANTIATE BOUNDARY CONDITION\n",
    "\n",
    "We instantiate the boundary condition manually from the analytical expression given in the following cell using the function dipole(x, y).\n",
    "\n",
    "We choose a grid resolution of 200 in x- and y-direction (and resulting number of Fourier modes = 200) as well as resolution in z-direction of 400.\n",
    "We want the boundary condition to extend to 20L (= 20 Mm) in all directions. Therefore, the extrapolation will lead to a 3D data cube.\n",
    "\"\"\"\n",
    "\n",
    "nx, ny, nz, nf = 200, 200, 400, 200\n",
    "xmin, xmax, ymin, ymax, zmin, zmax = 0.0, 20.0, 0.0, 20.0, 0.0, 20.0\n",
    "\n",
    "\"\"\"\n",
    "Calculation of pixel sizes and arrays of x-, y- and z-extension of box. \n",
    "\"\"\"\n",
    "pixelsize_x = (xmax - xmin) / nx\n",
    "pixelsize_y = (ymax - ymin) / ny\n",
    "pixelsize_z = (zmax - zmin) / nz\n",
    "\n",
    "x_arr = np.linspace(xmin, xmax, nx, dtype=np.float64)\n",
    "y_arr = np.linspace(ymin, ymax, ny, dtype=np.float64)\n",
    "z_arr = np.linspace(zmin, zmax, nz, dtype=np.float64)"
   ]
  },
  {
   "cell_type": "code",
   "execution_count": null,
   "metadata": {},
   "outputs": [],
   "source": [
    "def dipole(x: np.float64, y: np.float64) -> np.float64:\n",
    "    \"\"\"\n",
    "    Returns value of Dipole-Von Mises distribution at given x and y inspired by Neukirch and Wiegelmann (2019).\n",
    "    mu_x1, mu_y1, mu_x2, mu_y2 as well as kappa_x1, kappa_y1, kappa_x2 and kappa_y2 can be changed to adjust positions and radii of sink and source.\n",
    "    This is a simple example to test the runtime of the code.\n",
    "    \"\"\"\n",
    "\n",
    "    xx = np.pi * (x / 10.0 - 1.0)\n",
    "    yy = np.pi * (y / 10.0 - 1.0)\n",
    "    mu_x1 = 1.2 / np.pi + 1.0\n",
    "    mu_y1 = mu_x1\n",
    "    mu_x2 = -mu_x1\n",
    "    mu_y2 = -mu_y1\n",
    "    kappa_x1 = 10.0\n",
    "    kappa_y1 = kappa_x1\n",
    "    kappa_x2 = kappa_y1\n",
    "    kappa_y2 = kappa_x1\n",
    "\n",
    "    return np.exp(kappa_x1 * np.cos(xx - mu_x1)) / (\n",
    "        2.0 * np.pi * np.i0(kappa_x1)\n",
    "    ) * np.exp(kappa_y1 * np.cos(yy - mu_y1)) / (\n",
    "        2.0 * np.pi * np.i0(kappa_y1)\n",
    "    ) - np.exp(\n",
    "        kappa_x2 * np.cos(xx - mu_x2)\n",
    "    ) / (\n",
    "        2.0 * np.pi * np.i0(kappa_x2)\n",
    "    ) * np.exp(\n",
    "        kappa_y2 * np.cos(yy - mu_y2)\n",
    "    ) / (\n",
    "        2.0 * np.pi * np.i0(kappa_y2)\n",
    "    )"
   ]
  },
  {
   "cell_type": "code",
   "execution_count": null,
   "metadata": {},
   "outputs": [],
   "source": [
    "\"\"\"\n",
    "INSTANTIATE BOUNDARY CONDITION 2\n",
    "\n",
    "We define the normalising magnetic field strength as 500 Gauss. \n",
    "\"\"\"\n",
    "\n",
    "B_PHOTO = 500\n",
    "\n",
    "data_bz = np.zeros((ny, nx))\n",
    "\n",
    "for ix in range(0, nx):\n",
    "    for iy in range(0, ny):\n",
    "        x = x_arr[ix] \n",
    "        y = y_arr[iy] \n",
    "        data_bz[iy, ix] = dipole(x, y)"
   ]
  },
  {
   "cell_type": "code",
   "execution_count": null,
   "metadata": {},
   "outputs": [],
   "source": [
    "\"\"\"\n",
    "INSTANTIATE Field2dData OBJECT FROM ANALYTICAL BOUNDARY CONDITION LABELLED AS \"UNBALANCED\" TO TEST RUNTIME WHEN Seehafer (1978) IS APPLIED\n",
    "\"\"\"\n",
    "\n",
    "data2d = Field2dData(\n",
    "    nx,\n",
    "    ny,\n",
    "    nz,\n",
    "    nf,\n",
    "    pixelsize_x,\n",
    "    pixelsize_y,\n",
    "    pixelsize_z,\n",
    "    x_arr,\n",
    "    y_arr,\n",
    "    z_arr,\n",
    "    data_bz,\n",
    "    flux_balance_state=FluxBalanceState.UNBALANCED,\n",
    ")"
   ]
  },
  {
   "cell_type": "code",
   "execution_count": null,
   "metadata": {},
   "outputs": [],
   "source": [
    "\"\"\"\n",
    "PLOT 2D BOUNDARY CONDITION\n",
    "\"\"\"\n",
    "\n",
    "plot_magnetogram_2D(data2d)"
   ]
  },
  {
   "cell_type": "code",
   "execution_count": null,
   "metadata": {},
   "outputs": [],
   "source": [
    "\"\"\"\n",
    "DEFINE PARAMETERS FOR EXTRAPOLATION\n",
    "\"\"\"\n",
    "\n",
    "a = 0.22\n",
    "alpha = 0.05\n",
    "b = 1.0\n",
    "z0 = 2.0\n",
    "deltaz = 0.2"
   ]
  },
  {
   "cell_type": "code",
   "execution_count": null,
   "metadata": {},
   "outputs": [],
   "source": [
    "\"\"\"\n",
    "CALCULATE WAVE NUMBERS AND COEFFICIENTS FOR DIRECT CALCULATION OF \\bar{\\Phi} AND ITS FIRST DERIVATIVE WRT z\n",
    "\n",
    "For details on the definition of \\bar{\\Phi} and its first derivative as well as the role they play in our model see the publications by\n",
    "\n",
    "Neukirch, T., Wiegelmann, T. (2019)\n",
    "Analytical Three-dimensional MagnetohydrostaticEquilibrium Solutions for Magnetic Field ExtrapolationAllowing a Transition from Non-force-free to Force-freeMagnetic Fields, \n",
    "Solar Physics,\n",
    "https://doi.org/10.1007/s11207-019-1561-0\n",
    "\n",
    "Nadol, L., Neukirch, T. (2025).\n",
    "An efficient method for magnetic field extrapolation based on a family of analytical three-dimensional magnetohydrostatic equilibria,\n",
    "Solar Physics,\n",
    "https://doi.org/etc/etc/etc\n",
    "\n",
    "Nadol, L., Neukirch, T. (2025).\n",
    "MHSXtraPy - A set of codes for three-dimensional magnetohydrostatic solar magnetic field extrapolation,\n",
    "RAS Techniques and Instruments,\n",
    "https://doi.org/etc/etc/etc\n",
    "\n",
    "\"\"\"\n",
    "\n",
    "length_scale = float(2.0)  # Normalising length scale for Seehafer\n",
    "\n",
    "length_scale_x = 2.0 * data2d.nx * data2d.px\n",
    "length_scale_y = 2.0 * data2d.ny * data2d.py\n",
    "\n",
    "length_scale_x_norm = length_scale_x / length_scale\n",
    "length_scale_y_norm = length_scale_y / length_scale\n",
    "\n",
    "kx_arr = np.arange(data2d.nf) * np.pi / length_scale_x_norm  # [0:nf_max]\n",
    "ky_arr = np.arange(data2d.nf) * np.pi / length_scale_y_norm  # [0:nf_max]\n",
    "one_arr = 0.0 * np.arange(data2d.nf) + 1.0\n",
    "\n",
    "ky_grid = np.outer(ky_arr, one_arr)  # [0:nf_max, 0:nf_max]\n",
    "kx_grid = np.outer(one_arr, kx_arr)  # [0:nf_max, 0:nf_max]\n",
    "\n",
    "# kx^2 + ky^2\n",
    "\n",
    "k2_arr = np.outer(ky_arr**2, one_arr) + np.outer(one_arr, kx_arr**2)\n",
    "k2_arr[0, 0] = (np.pi / length_scale_x_norm) ** 2 + (np.pi / length_scale_y_norm) ** 2\n",
    "k2_arr[1, 0] = (np.pi / length_scale_x_norm) ** 2 + (np.pi / length_scale_y_norm) ** 2\n",
    "k2_arr[0, 1] = (np.pi / length_scale_x_norm) ** 2 + (np.pi / length_scale_y_norm) ** 2\n",
    "\n",
    "p_arr = (\n",
    "    0.5 * deltaz * np.sqrt(k2_arr[0:data2d.nf, 0:data2d.nf] * (1.0 - a - a * b) - alpha**2)\n",
    ")\n",
    "q_arr = (\n",
    "    0.5 * deltaz * np.sqrt(k2_arr[0:data2d.nf, 0:data2d.nf] * (1.0 - a + a * b) - alpha**2)\n",
    ")"
   ]
  },
  {
   "cell_type": "code",
   "execution_count": null,
   "metadata": {},
   "outputs": [],
   "source": [
    "\"\"\"\n",
    "INSTANTIATE ARRAYS FOR RUNTIME TESTS\n",
    "\"\"\"\n",
    "\n",
    "phi_asymp = np.zeros((data2d.nf, data2d.nf, data2d.nz))\n",
    "dphidz_asymp = np.zeros_like(phi_asymp)\n",
    "phi_NW = np.zeros_like(phi_asymp)\n",
    "dphidz_NW = np.zeros_like(phi_asymp)"
   ]
  },
  {
   "cell_type": "code",
   "execution_count": null,
   "metadata": {},
   "outputs": [],
   "source": [
    "\"\"\"\n",
    "DEFINE FUNCTIONS FOR RUNTIME TESTING OF \\bar{\\Phi} AND ITS FIRST DERIVATIVE\n",
    "\"\"\"\n",
    "\n",
    "def check_runtime_phi_nn():\n",
    "    for iz, z in enumerate(z_arr):\n",
    "        phi_asymp[:, :, iz] = phi(z, p_arr, q_arr, z0, deltaz)\n",
    "\n",
    "def check_runtime_phi_nw():\n",
    "    for iz, z in enumerate(z_arr):\n",
    "        phi_NW[:, :, iz] = phi_nw(z, p_arr, q_arr, z0, deltaz)\n",
    "\n",
    "def check_runtime_dphidz_nn():\n",
    "    for iz, z in enumerate(z_arr):\n",
    "        dphidz_asymp[:, :, iz] = dphidz(z, p_arr, q_arr, z0, deltaz)\n",
    "\n",
    "def check_runtime_dphidz_nw():\n",
    "    for iz, z in enumerate(z_arr):\n",
    "        dphidz_NW[:, :, iz] = dphidz_nw(z, p_arr, q_arr, z0, deltaz)"
   ]
  },
  {
   "cell_type": "code",
   "execution_count": null,
   "metadata": {},
   "outputs": [],
   "source": [
    "\"\"\"\n",
    "TEST RUNTIME OF \\bar{Phi} FOR NEW ASYMPTOTIC SOLUTION \n",
    "\"\"\"\n",
    "\n",
    "%timeit -n 100 -r 10 check_runtime_phi_nn()"
   ]
  },
  {
   "cell_type": "code",
   "execution_count": null,
   "metadata": {},
   "outputs": [],
   "source": [
    "\"\"\"\n",
    "TEST RUNTIME OF \\bar{Phi} FOR Neukirch and Wiegelmann (2019) SOLUTION \n",
    "\"\"\"\n",
    "\n",
    "%timeit -n 100 -r 10 check_runtime_phi_nw()"
   ]
  },
  {
   "cell_type": "code",
   "execution_count": null,
   "metadata": {},
   "outputs": [],
   "source": [
    "\"\"\"\n",
    "TEST RUNTIME OF FIRST DERIVATIVE OF \\bar{Phi} FOR NEW ASYMPTOTIC SOLUTION \n",
    "\"\"\"\n",
    "\n",
    "%timeit -n 100 -r 10 check_runtime_dphidz_nn()"
   ]
  },
  {
   "cell_type": "code",
   "execution_count": null,
   "metadata": {},
   "outputs": [],
   "source": [
    "\"\"\"\n",
    "TEST RUNTIME OF FIRST DERIVATIVE OF \\bar{Phi} FOR Neukirch adn Wiegelmann (2019) SOLUTION \n",
    "\"\"\"\n",
    "\n",
    "%timeit -n 100 -r 10 check_runtime_dphidz_nw()"
   ]
  },
  {
   "cell_type": "code",
   "execution_count": null,
   "metadata": {},
   "outputs": [],
   "source": [
    "\"\"\"\n",
    "DEFINE FUNCTIONS FOR RUNTIME TESTING OF B CALUCULATION IN UNBALANCED CASE FOR BOTH THE ASYMPTOTIC AND THE Neukirch and Wiegelmann (2019) SOLUTIONS\n",
    "\"\"\"\n",
    "\n",
    "def check_runtime_b_nn_unbalanced():\n",
    "    b3d(data2d, a=a, b=b, alpha=alpha, z0=z0, deltaz=deltaz, solution=WhichSolution.ASYMP)\n",
    "\n",
    "def check_runtime_b_nw_unbalanced():\n",
    "    b3d(data2d, a=a, b=b, alpha=alpha, z0=z0, deltaz=deltaz, solution=WhichSolution.NEUWIE)"
   ]
  },
  {
   "cell_type": "code",
   "execution_count": null,
   "metadata": {},
   "outputs": [],
   "source": [
    "\"\"\"\n",
    "INSTANTIATE Field2dData OBJECT FROM ANALYTICAL BOUNDARY CONDITION LABELLED AS \"BALANCED\" TO ALSO TEST RUNTIME WHEN Seehafer (1978) IS NOT APPLIED\n",
    "\"\"\"\n",
    "\n",
    "data2d_balanced = Field2dData(\n",
    "    nx,\n",
    "    ny,\n",
    "    nz,\n",
    "    nf,\n",
    "    pixelsize_x,\n",
    "    pixelsize_y,\n",
    "    pixelsize_z,\n",
    "    x_arr,\n",
    "    y_arr,\n",
    "    z_arr,\n",
    "    data_bz,\n",
    "    flux_balance_state=FluxBalanceState.BALANCED,\n",
    ")"
   ]
  },
  {
   "cell_type": "code",
   "execution_count": null,
   "metadata": {},
   "outputs": [],
   "source": [
    "\"\"\"\n",
    "DEFINE FUNCTIONS FOR RUNTIME TESTING OF B CALUCULATION IN BALANCED CASE FOR BOTH THE ASYMPTOTIC AND THE Neukirch and Wiegelmann (2019) SOLUTIONS\n",
    "\"\"\"\n",
    "\n",
    "def check_runtime_b_nn_balanced():\n",
    "    b3d(data2d_balanced, a=a, b=b, alpha=alpha, z0=z0, deltaz=deltaz, solution=WhichSolution.ASYMP)\n",
    "\n",
    "def check_runtime_b_nw_balanced():\n",
    "    b3d(data2d_balanced, a=a, b=b, alpha=alpha, z0=z0, deltaz=deltaz, solution=WhichSolution.NEUWIE)"
   ]
  },
  {
   "cell_type": "code",
   "execution_count": null,
   "metadata": {},
   "outputs": [],
   "source": [
    "\"\"\"\n",
    "TEST RUNTIME OF b3d IN UNBALANCED CASE WITH ASYMPTOTIC SOLUTION\n",
    "\"\"\"\n",
    "\n",
    "%timeit -n 5 -r 5 check_runtime_b_nn_unbalanced()"
   ]
  },
  {
   "cell_type": "code",
   "execution_count": null,
   "metadata": {},
   "outputs": [],
   "source": [
    "\"\"\"\n",
    "TEST RUNTIME OF b3d IN UNBALANCED CASE WITH Neukirch and Wiegelmann (2019) SOLUTION\n",
    "\"\"\"\n",
    "\n",
    "%timeit -n 5 -r 5 check_runtime_b_nw_unbalanced()"
   ]
  },
  {
   "cell_type": "code",
   "execution_count": null,
   "metadata": {},
   "outputs": [],
   "source": [
    "\"\"\"\n",
    "TEST RUNTIME OF b3d IN BALANCED CASE WITH ASYMPTOTIC SOLUTION\n",
    "\"\"\"\n",
    "\n",
    "%timeit -n 5 -r 5 check_runtime_b_nn_balanced()"
   ]
  },
  {
   "cell_type": "code",
   "execution_count": null,
   "metadata": {},
   "outputs": [],
   "source": [
    "\"\"\"\n",
    "TEST RUNTIME OF b3d IN BALANCED CASE WITH Neukirch and Wiegelmann (2019) SOLUTION\n",
    "\"\"\"\n",
    "\n",
    "%timeit -n 5 -r 5 check_runtime_b_nw_balanced()"
   ]
  },
  {
   "cell_type": "code",
   "execution_count": null,
   "metadata": {},
   "outputs": [],
   "source": []
  }
 ],
 "metadata": {
  "kernelspec": {
   "display_name": "mhsxtrapybeta-PM1cyDU1-py3.12",
   "language": "python",
   "name": "python3"
  },
  "language_info": {
   "codemirror_mode": {
    "name": "ipython",
    "version": 3
   },
   "file_extension": ".py",
   "mimetype": "text/x-python",
   "name": "python",
   "nbconvert_exporter": "python",
   "pygments_lexer": "ipython3",
   "version": "3.12.4"
  }
 },
 "nbformat": 4,
 "nbformat_minor": 2
}
